{
 "cells": [
  {
   "cell_type": "code",
   "execution_count": 30,
   "id": "74de9357-e4a3-41a8-9a62-dd8f0b82275b",
   "metadata": {},
   "outputs": [],
   "source": [
    "import os\n",
    "import pandas as pd\n",
    "from preprocess import *\n",
    "from tqdm import tqdm\n",
    "from datetime import datetime\n",
    "import pickle"
   ]
  },
  {
   "cell_type": "markdown",
   "id": "0526f70c-6274-43a5-8a55-d1e7c05208d0",
   "metadata": {},
   "source": [
    "#### set dir"
   ]
  },
  {
   "cell_type": "code",
   "execution_count": 34,
   "id": "d37225fd-36dc-4f56-b282-9c44b7c7aca9",
   "metadata": {
    "tags": []
   },
   "outputs": [],
   "source": [
    "# data, models 필요!\n",
    "\n",
    "data_dir = \"./data\"\n",
    "model_dir = \"./models\""
   ]
  },
  {
   "cell_type": "markdown",
   "id": "e7424f2c-1f27-4efe-9a30-20484e8210cb",
   "metadata": {},
   "source": [
    "#### preprocess"
   ]
  },
  {
   "cell_type": "code",
   "execution_count": 35,
   "id": "d82ab76a-78d7-4265-85cb-2df3cbc6a6dd",
   "metadata": {
    "tags": []
   },
   "outputs": [
    {
     "data": {
      "text/plain": [
       "['017960', '036010', '037440', '101680', '005380']"
      ]
     },
     "execution_count": 35,
     "metadata": {},
     "output_type": "execute_result"
    }
   ],
   "source": [
    "tickers = []\n",
    "for file in os.listdir(data_dir):\n",
    "    ticker, suffix = file.split(\".\")\n",
    "    if ticker and suffix == \"csv\":\n",
    "        tickers.append(ticker)\n",
    "tickers[:5]"
   ]
  },
  {
   "cell_type": "code",
   "execution_count": 4,
   "id": "d2cfc9da-ea7d-49fd-976f-dbee8ce16653",
   "metadata": {
    "tags": []
   },
   "outputs": [
    {
     "data": {
      "text/plain": [
       "['삼성물산', '삼성전자', '규모', '반도체', '생산', '시설', '공사', '수주데일리', '남궁', '민관']"
      ]
     },
     "execution_count": 4,
     "metadata": {},
     "output_type": "execute_result"
    }
   ],
   "source": [
    "cleaned = preprocess_ticker('005930')\n",
    "cleaned.split()[:10]"
   ]
  },
  {
   "cell_type": "code",
   "execution_count": 36,
   "id": "ca0ba8fc-fd08-408f-8c44-8024f04fc9bd",
   "metadata": {},
   "outputs": [
    {
     "name": "stderr",
     "output_type": "stream",
     "text": [
      "100%|█████████████████████████████████████| 2160/2160 [2:12:11<00:00,  3.67s/it]\n"
     ]
    }
   ],
   "source": [
    "# data: Dict[str, List[str]], takes about 18 min in M1\n",
    "data = {ticker: preprocess_ticker(ticker).split() for ticker in tqdm(tickers)}"
   ]
  },
  {
   "cell_type": "markdown",
   "id": "d838db9d-0ed7-4c64-a01b-5fb77a73aaf6",
   "metadata": {
    "tags": []
   },
   "source": [
    "### train model"
   ]
  },
  {
   "cell_type": "code",
   "execution_count": 32,
   "id": "8763bc80-18ab-43b2-9bdd-816ee9cea5b6",
   "metadata": {
    "tags": []
   },
   "outputs": [],
   "source": [
    "from ticker_finder import TickerFinder"
   ]
  },
  {
   "cell_type": "code",
   "execution_count": 37,
   "id": "1a90161c-7a92-4725-b81a-52b2bce66407",
   "metadata": {
    "tags": []
   },
   "outputs": [],
   "source": [
    "tk = TickerFinder('original')"
   ]
  },
  {
   "cell_type": "code",
   "execution_count": 38,
   "id": "1369e7c2-4109-4531-8c8b-2cfe69ace721",
   "metadata": {
    "tags": []
   },
   "outputs": [
    {
     "name": "stdout",
     "output_type": "stream",
     "text": [
      "start training tfidf...\n",
      "tfidf finished! time: 1070.8446609973907\n",
      "start training fasttext...\n",
      "fasttext finished! time: 2066.9659559726715\n",
      "start making keywords dict...\n",
      "keywords dict finished! time: 5.742472887039185\n",
      "train finished!\n"
     ]
    }
   ],
   "source": [
    "# Load if have trained data\n",
    "\n",
    "# tk.load(model_dir, version='original')\n",
    "\n",
    "tk.fit(data) # takes about 3 min in M1"
   ]
  },
  {
   "cell_type": "code",
   "execution_count": 39,
   "id": "63943ac3-54bc-47ae-921d-f007ed491000",
   "metadata": {},
   "outputs": [
    {
     "name": "stdout",
     "output_type": "stream",
     "text": [
      "./models/2023-06-21.model saved\n"
     ]
    }
   ],
   "source": [
    "# save after train\n",
    "version = datetime.now().strftime(\"%Y-%m-%d\")\n",
    "tk.save(model_dir)"
   ]
  },
  {
   "cell_type": "markdown",
   "id": "211c408c-3a07-4533-9fe8-0d6a47d10235",
   "metadata": {},
   "source": [
    "#### tfidf result"
   ]
  },
  {
   "cell_type": "code",
   "execution_count": 40,
   "id": "1f86a0ce-822f-4baf-b047-dcbaedcfebb8",
   "metadata": {
    "tags": []
   },
   "outputs": [
    {
     "data": {
      "text/plain": [
       "[(1, 0.01509312718180835),\n",
       " (3, 0.0010783227187121025),\n",
       " (13, 0.0031095202807639383),\n",
       " (37, 0.0017940720590537127),\n",
       " (42, 0.0008214241942268604)]"
      ]
     },
     "execution_count": 40,
     "metadata": {},
     "output_type": "execute_result"
    }
   ],
   "source": [
    "ticker = '005930'\n",
    "words = tk.tfidf[tk.bow[ticker]]\n",
    "words[:5]"
   ]
  },
  {
   "cell_type": "code",
   "execution_count": 41,
   "id": "5ffd5edb-cb76-4e4d-a62b-65aa5eb5ba31",
   "metadata": {
    "tags": []
   },
   "outputs": [
    {
     "data": {
      "text/plain": [
       "'삼성전자'"
      ]
     },
     "execution_count": 41,
     "metadata": {},
     "output_type": "execute_result"
    }
   ],
   "source": [
    "word, score = max(words, key=lambda x: x[1])\n",
    "tk.dct[word]"
   ]
  },
  {
   "cell_type": "markdown",
   "id": "fd84e7cc-c86a-4b98-b360-30be6121fd2a",
   "metadata": {},
   "source": [
    "#### fasttext result"
   ]
  },
  {
   "cell_type": "code",
   "execution_count": 42,
   "id": "bff08da9-1e3d-4582-aa6d-64aee20d91eb",
   "metadata": {
    "tags": []
   },
   "outputs": [
    {
     "data": {
      "text/plain": [
       "0.7864743"
      ]
     },
     "execution_count": 42,
     "metadata": {},
     "output_type": "execute_result"
    }
   ],
   "source": [
    "tk.fasttext.wv.similarity('소주', '맥주')"
   ]
  },
  {
   "cell_type": "code",
   "execution_count": 43,
   "id": "7cf62b19-e244-4b30-8822-c608555012f5",
   "metadata": {
    "tags": []
   },
   "outputs": [
    {
     "data": {
      "text/plain": [
       "[('상보반도체', 0.8876902461051941),\n",
       " ('삼성전자반도체', 0.8461573719978333),\n",
       " ('반도체한미', 0.8264661431312561),\n",
       " ('인수반도체', 0.8055769801139832),\n",
       " ('경신반도체', 0.7774364352226257),\n",
       " ('투자반도체', 0.7770246863365173),\n",
       " ('청약반도체', 0.7581021189689636),\n",
       " ('내역반도체', 0.7277847528457642),\n",
       " ('감소반도체', 0.7247389554977417),\n",
       " ('유도체', 0.7079378962516785)]"
      ]
     },
     "execution_count": 43,
     "metadata": {},
     "output_type": "execute_result"
    }
   ],
   "source": [
    "tk.fasttext.wv.similar_by_word('반도체')"
   ]
  },
  {
   "cell_type": "markdown",
   "id": "fcf9cc3f-768b-4edc-b536-a75a5cfcb817",
   "metadata": {},
   "source": [
    "#### result"
   ]
  },
  {
   "cell_type": "code",
   "execution_count": 44,
   "id": "7c3e199d-d120-4dc0-a701-dec2fefe17c1",
   "metadata": {
    "tags": []
   },
   "outputs": [
    {
     "data": {
      "text/plain": [
       "{'하림': 0.8850433931216997,\n",
       " '제일': 0.23320101777509053,\n",
       " '홀딩스': 0.1741736717944637,\n",
       " '지주사': 0.15953111093942998,\n",
       " '지주': 0.15190311820003663,\n",
       " '식품': 0.07486118383307132,\n",
       " 'NS': 0.07226746733235516,\n",
       " '곡물': 0.07001335870177941,\n",
       " '닭고기': 0.06544437640853987,\n",
       " '사료': 0.06204353885520301,\n",
       " '합병': 0.05990998634455109,\n",
       " '김홍국': 0.058095847345716246,\n",
       " '최상위': 0.057082489902029125,\n",
       " '민동기': 0.05641985191675873,\n",
       " '스코': 0.048136220263721434,\n",
       " '지배': 0.04665470111598514,\n",
       " '제일사료': 0.04475991448232351,\n",
       " '지주회사': 0.04466725726875858}"
      ]
     },
     "execution_count": 44,
     "metadata": {},
     "output_type": "execute_result"
    }
   ],
   "source": [
    "related_words = tk.keywords['003380']\n",
    "related_words"
   ]
  },
  {
   "cell_type": "code",
   "execution_count": 45,
   "id": "732ef3a1-0c08-4403-b519-335f9b21dbad",
   "metadata": {
    "tags": []
   },
   "outputs": [
    {
     "data": {
      "text/plain": [
       "('005930', 1.8400524560805656)"
      ]
     },
     "execution_count": 45,
     "metadata": {},
     "output_type": "execute_result"
    }
   ],
   "source": [
    "related_score = tk.score('반도체', ticker)\n",
    "related_score"
   ]
  },
  {
   "cell_type": "code",
   "execution_count": 46,
   "id": "3c68aab0-2ee8-471a-9850-3a2e50c4ccc3",
   "metadata": {
    "tags": []
   },
   "outputs": [],
   "source": [
    "info = pd.read_csv(\"ticker.csv\")"
   ]
  },
  {
   "cell_type": "code",
   "execution_count": 52,
   "id": "1fae38db-7df6-47b4-9898-355ccd85760b",
   "metadata": {
    "tags": []
   },
   "outputs": [
    {
     "data": {
      "text/html": [
       "<div>\n",
       "<style scoped>\n",
       "    .dataframe tbody tr th:only-of-type {\n",
       "        vertical-align: middle;\n",
       "    }\n",
       "\n",
       "    .dataframe tbody tr th {\n",
       "        vertical-align: top;\n",
       "    }\n",
       "\n",
       "    .dataframe thead th {\n",
       "        text-align: right;\n",
       "    }\n",
       "</style>\n",
       "<table border=\"1\" class=\"dataframe\">\n",
       "  <thead>\n",
       "    <tr style=\"text-align: right;\">\n",
       "      <th></th>\n",
       "      <th>종목코드</th>\n",
       "      <th>종목명</th>\n",
       "      <th>시장구분</th>\n",
       "      <th>업종명</th>\n",
       "      <th>시가총액</th>\n",
       "    </tr>\n",
       "  </thead>\n",
       "  <tbody>\n",
       "    <tr>\n",
       "      <th>0</th>\n",
       "      <td>000370</td>\n",
       "      <td>한화손해보험</td>\n",
       "      <td>KOSPI</td>\n",
       "      <td>보험</td>\n",
       "      <td>496724083325</td>\n",
       "    </tr>\n",
       "    <tr>\n",
       "      <th>1</th>\n",
       "      <td>000400</td>\n",
       "      <td>롯데손해보험</td>\n",
       "      <td>KOSPI</td>\n",
       "      <td>보험</td>\n",
       "      <td>537502506240</td>\n",
       "    </tr>\n",
       "    <tr>\n",
       "      <th>2</th>\n",
       "      <td>000540</td>\n",
       "      <td>흥국화재</td>\n",
       "      <td>KOSPI</td>\n",
       "      <td>보험</td>\n",
       "      <td>206540103675</td>\n",
       "    </tr>\n",
       "    <tr>\n",
       "      <th>3</th>\n",
       "      <td>000810</td>\n",
       "      <td>삼성화재</td>\n",
       "      <td>KOSPI</td>\n",
       "      <td>보험</td>\n",
       "      <td>10801462836000</td>\n",
       "    </tr>\n",
       "    <tr>\n",
       "      <th>4</th>\n",
       "      <td>001450</td>\n",
       "      <td>현대해상</td>\n",
       "      <td>KOSPI</td>\n",
       "      <td>보험</td>\n",
       "      <td>2959140000000</td>\n",
       "    </tr>\n",
       "    <tr>\n",
       "      <th>5</th>\n",
       "      <td>001520</td>\n",
       "      <td>동양</td>\n",
       "      <td>KOSPI</td>\n",
       "      <td>비금속광물</td>\n",
       "      <td>250618266150</td>\n",
       "    </tr>\n",
       "    <tr>\n",
       "      <th>6</th>\n",
       "      <td>003470</td>\n",
       "      <td>유안타증권</td>\n",
       "      <td>KOSPI</td>\n",
       "      <td>증권</td>\n",
       "      <td>564858310080</td>\n",
       "    </tr>\n",
       "    <tr>\n",
       "      <th>7</th>\n",
       "      <td>003690</td>\n",
       "      <td>코리안리</td>\n",
       "      <td>KOSPI</td>\n",
       "      <td>보험</td>\n",
       "      <td>1019558078360</td>\n",
       "    </tr>\n",
       "    <tr>\n",
       "      <th>8</th>\n",
       "      <td>005830</td>\n",
       "      <td>DB손해보험</td>\n",
       "      <td>KOSPI</td>\n",
       "      <td>보험</td>\n",
       "      <td>5508240000000</td>\n",
       "    </tr>\n",
       "    <tr>\n",
       "      <th>9</th>\n",
       "      <td>010240</td>\n",
       "      <td>흥국</td>\n",
       "      <td>KOSDAQ</td>\n",
       "      <td>기계·장비</td>\n",
       "      <td>79727843120</td>\n",
       "    </tr>\n",
       "    <tr>\n",
       "      <th>10</th>\n",
       "      <td>012030</td>\n",
       "      <td>DB</td>\n",
       "      <td>KOSPI</td>\n",
       "      <td>서비스업</td>\n",
       "      <td>456664827910</td>\n",
       "    </tr>\n",
       "    <tr>\n",
       "      <th>11</th>\n",
       "      <td>016610</td>\n",
       "      <td>DB금융투자</td>\n",
       "      <td>KOSPI</td>\n",
       "      <td>증권</td>\n",
       "      <td>179760457415</td>\n",
       "    </tr>\n",
       "    <tr>\n",
       "      <th>12</th>\n",
       "      <td>031510</td>\n",
       "      <td>오스템</td>\n",
       "      <td>KOSDAQ</td>\n",
       "      <td>운송장비·부품</td>\n",
       "      <td>45836000000</td>\n",
       "    </tr>\n",
       "    <tr>\n",
       "      <th>13</th>\n",
       "      <td>032830</td>\n",
       "      <td>삼성생명</td>\n",
       "      <td>KOSPI</td>\n",
       "      <td>보험</td>\n",
       "      <td>13380000000000</td>\n",
       "    </tr>\n",
       "    <tr>\n",
       "      <th>14</th>\n",
       "      <td>046970</td>\n",
       "      <td>우리로</td>\n",
       "      <td>KOSDAQ</td>\n",
       "      <td>유통</td>\n",
       "      <td>44645140162</td>\n",
       "    </tr>\n",
       "    <tr>\n",
       "      <th>15</th>\n",
       "      <td>048260</td>\n",
       "      <td>오스템임플란트</td>\n",
       "      <td>KOSDAQ</td>\n",
       "      <td>의료·정밀기기</td>\n",
       "      <td>2928379744000</td>\n",
       "    </tr>\n",
       "    <tr>\n",
       "      <th>16</th>\n",
       "      <td>049720</td>\n",
       "      <td>고려신용정보</td>\n",
       "      <td>KOSDAQ</td>\n",
       "      <td>기타서비스</td>\n",
       "      <td>143858000000</td>\n",
       "    </tr>\n",
       "    <tr>\n",
       "      <th>17</th>\n",
       "      <td>052400</td>\n",
       "      <td>코나아이</td>\n",
       "      <td>KOSDAQ</td>\n",
       "      <td>소프트웨어</td>\n",
       "      <td>253499983100</td>\n",
       "    </tr>\n",
       "    <tr>\n",
       "      <th>18</th>\n",
       "      <td>055550</td>\n",
       "      <td>신한지주</td>\n",
       "      <td>KOSPI</td>\n",
       "      <td>기타금융</td>\n",
       "      <td>18264534445050</td>\n",
       "    </tr>\n",
       "    <tr>\n",
       "      <th>19</th>\n",
       "      <td>082640</td>\n",
       "      <td>동양생명</td>\n",
       "      <td>KOSPI</td>\n",
       "      <td>보험</td>\n",
       "      <td>607515072525</td>\n",
       "    </tr>\n",
       "    <tr>\n",
       "      <th>20</th>\n",
       "      <td>085620</td>\n",
       "      <td>미래에셋생명</td>\n",
       "      <td>KOSPI</td>\n",
       "      <td>보험</td>\n",
       "      <td>593004233150</td>\n",
       "    </tr>\n",
       "    <tr>\n",
       "      <th>21</th>\n",
       "      <td>088350</td>\n",
       "      <td>한화생명</td>\n",
       "      <td>KOSPI</td>\n",
       "      <td>보험</td>\n",
       "      <td>2245150050000</td>\n",
       "    </tr>\n",
       "    <tr>\n",
       "      <th>22</th>\n",
       "      <td>102940</td>\n",
       "      <td>코오롱생명과학</td>\n",
       "      <td>KOSDAQ</td>\n",
       "      <td>제약</td>\n",
       "      <td>357777360600</td>\n",
       "    </tr>\n",
       "    <tr>\n",
       "      <th>23</th>\n",
       "      <td>139130</td>\n",
       "      <td>DGB금융지주</td>\n",
       "      <td>KOSPI</td>\n",
       "      <td>기타금융</td>\n",
       "      <td>1194169580980</td>\n",
       "    </tr>\n",
       "    <tr>\n",
       "      <th>24</th>\n",
       "      <td>155660</td>\n",
       "      <td>DSR</td>\n",
       "      <td>KOSPI</td>\n",
       "      <td>철강금속</td>\n",
       "      <td>80480000000</td>\n",
       "    </tr>\n",
       "    <tr>\n",
       "      <th>25</th>\n",
       "      <td>211050</td>\n",
       "      <td>인카금융서비스</td>\n",
       "      <td>KOSDAQ</td>\n",
       "      <td>금융</td>\n",
       "      <td>139444777200</td>\n",
       "    </tr>\n",
       "  </tbody>\n",
       "</table>\n",
       "</div>"
      ],
      "text/plain": [
       "      종목코드      종목명    시장구분      업종명            시가총액\n",
       "0   000370   한화손해보험   KOSPI       보험    496724083325\n",
       "1   000400   롯데손해보험   KOSPI       보험    537502506240\n",
       "2   000540     흥국화재   KOSPI       보험    206540103675\n",
       "3   000810     삼성화재   KOSPI       보험  10801462836000\n",
       "4   001450     현대해상   KOSPI       보험   2959140000000\n",
       "5   001520       동양   KOSPI    비금속광물    250618266150\n",
       "6   003470    유안타증권   KOSPI       증권    564858310080\n",
       "7   003690     코리안리   KOSPI       보험   1019558078360\n",
       "8   005830   DB손해보험   KOSPI       보험   5508240000000\n",
       "9   010240       흥국  KOSDAQ    기계·장비     79727843120\n",
       "10  012030       DB   KOSPI     서비스업    456664827910\n",
       "11  016610   DB금융투자   KOSPI       증권    179760457415\n",
       "12  031510      오스템  KOSDAQ  운송장비·부품     45836000000\n",
       "13  032830     삼성생명   KOSPI       보험  13380000000000\n",
       "14  046970      우리로  KOSDAQ       유통     44645140162\n",
       "15  048260  오스템임플란트  KOSDAQ  의료·정밀기기   2928379744000\n",
       "16  049720   고려신용정보  KOSDAQ    기타서비스    143858000000\n",
       "17  052400     코나아이  KOSDAQ    소프트웨어    253499983100\n",
       "18  055550     신한지주   KOSPI     기타금융  18264534445050\n",
       "19  082640     동양생명   KOSPI       보험    607515072525\n",
       "20  085620   미래에셋생명   KOSPI       보험    593004233150\n",
       "21  088350     한화생명   KOSPI       보험   2245150050000\n",
       "22  102940  코오롱생명과학  KOSDAQ       제약    357777360600\n",
       "23  139130  DGB금융지주   KOSPI     기타금융   1194169580980\n",
       "24  155660      DSR   KOSPI     철강금속     80480000000\n",
       "25  211050  인카금융서비스  KOSDAQ       금융    139444777200"
      ]
     },
     "execution_count": 52,
     "metadata": {},
     "output_type": "execute_result"
    }
   ],
   "source": [
    "keyword = '보험'\n",
    "n = 30\n",
    "\n",
    "tickers = [ticker for ticker, _ in tk.predict(keyword, n)]\n",
    "info[info['종목코드'].isin(tickers)].reset_index(drop='index')"
   ]
  },
  {
   "cell_type": "code",
   "execution_count": null,
   "id": "5232b741-8a55-4049-b9b4-cec5abd7d7dc",
   "metadata": {},
   "outputs": [],
   "source": []
  }
 ],
 "metadata": {
  "kernelspec": {
   "display_name": "Python 3 (ipykernel)",
   "language": "python",
   "name": "python3"
  },
  "language_info": {
   "codemirror_mode": {
    "name": "ipython",
    "version": 3
   },
   "file_extension": ".py",
   "mimetype": "text/x-python",
   "name": "python",
   "nbconvert_exporter": "python",
   "pygments_lexer": "ipython3",
   "version": "3.9.16"
  }
 },
 "nbformat": 4,
 "nbformat_minor": 5
}
