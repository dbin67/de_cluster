{
 "cells": [
  {
   "cell_type": "code",
   "execution_count": 1,
   "id": "653fad5c-f026-4f6a-908e-523e932b76f8",
   "metadata": {},
   "outputs": [
    {
     "data": {
      "text/plain": [
       "[('000020', 0.7889432907104492),\n",
       " ('000030', 1.8329582214355469),\n",
       " ('000040', 0.32431793212890625),\n",
       " ('000050', 0.169891357421875),\n",
       " ('000060', 1.3198652267456055),\n",
       " ('000070', 0.25897789001464844),\n",
       " ('000080', 1.709299087524414),\n",
       " ('000100', 1.685617446899414),\n",
       " ('000120', 1.8949947357177734),\n",
       " ('000140', 0.13136768341064453)]"
      ]
     },
     "execution_count": 1,
     "metadata": {},
     "output_type": "execute_result"
    }
   ],
   "source": [
    "import os\n",
    "\n",
    "# data 필요!\n",
    "tickers = []\n",
    "for file in os.listdir(\"data\"):\n",
    "    ticker, suffix = file.split(\".\")\n",
    "    size = os.path.getsize(f'data/{file}')\n",
    "    if ticker and suffix == \"csv\":\n",
    "        tickers.append((ticker, size/1024/1024))\n",
    "tickers.sort()\n",
    "tickers[:10]"
   ]
  },
  {
   "cell_type": "code",
   "execution_count": 2,
   "id": "5ef4ac94-7b38-4a43-b599-e9269f06ca27",
   "metadata": {},
   "outputs": [],
   "source": [
    "from typing import List, Tuple\n",
    "\n",
    "def evaluate(data: List[Tuple[str, int]], chunk_size=3):\n",
    "    s = len(data) // chunk_size\n",
    "    sizes = []\n",
    "    for i in range(chunk_size):\n",
    "        sizes.append(sum(size for _, size in data[s * i: s * (i + 1)]))\n",
    "    avg = sum(sizes)/chunk_size\n",
    "    mse = sum((size - avg) ** 2 for size in sizes)/ chunk_size\n",
    "    return sizes, mse"
   ]
  },
  {
   "cell_type": "markdown",
   "id": "3376b596-da59-43f2-b831-95088bcfa6e5",
   "metadata": {},
   "source": [
    "## Rowkey Design\n",
    "\n",
    "data의 용량을 고르게 분산"
   ]
  },
  {
   "cell_type": "markdown",
   "id": "12f0c978-3d0f-4d3d-b44f-9897a22b0b9f",
   "metadata": {},
   "source": [
    "## default"
   ]
  },
  {
   "cell_type": "code",
   "execution_count": 33,
   "id": "50319a81-2fc9-45ce-9d79-4e5e5526b663",
   "metadata": {},
   "outputs": [
    {
     "name": "stdout",
     "output_type": "stream",
     "text": [
      "[397.2962188720703, 305.57104206085205, 266.82598304748535]\n",
      "mse: 2993.02\n"
     ]
    }
   ],
   "source": [
    "sizes, mse = evaluate(tickers)\n",
    "print(sizes)\n",
    "print(f'mse: {mse:.2f}')"
   ]
  },
  {
   "cell_type": "markdown",
   "id": "7759ebdc-5d86-47d0-a7f5-2bcc1cd6f955",
   "metadata": {},
   "source": [
    "## reverse ticker"
   ]
  },
  {
   "cell_type": "code",
   "execution_count": 34,
   "id": "a04c6b1d-0f07-4bca-8dcb-9538941bcd7b",
   "metadata": {},
   "outputs": [
    {
     "name": "stdout",
     "output_type": "stream",
     "text": [
      "[319.2034454345703, 329.9751272201538, 320.5146713256836]\n",
      "mse: 23.03\n"
     ]
    }
   ],
   "source": [
    "reverse_ticker = sorted([(ticker[::-1], size) for ticker, size in tickers])\n",
    "sizes, mse = evaluate(reverse_ticker)\n",
    "print(sizes)\n",
    "print(f'mse: {mse:.2f}')"
   ]
  },
  {
   "cell_type": "code",
   "execution_count": null,
   "id": "17619aed-5969-480e-bdd1-74b95bb7377e",
   "metadata": {},
   "outputs": [],
   "source": []
  },
  {
   "cell_type": "markdown",
   "id": "e1007205-d682-4f0c-896e-69bbbc3dfeff",
   "metadata": {},
   "source": [
    "## Input Order\n",
    "\n",
    "처음에 기존의 큰 데이터를 넣어줄때만 유의미!\n",
    "\n",
    "region server의 부하를 고르게 분산\n"
   ]
  },
  {
   "cell_type": "code",
   "execution_count": 35,
   "id": "f6d95289-c414-4b84-bda1-1f2e09cb8a38",
   "metadata": {},
   "outputs": [],
   "source": [
    "\n",
    "def overheads(data: list):\n",
    "    regions = [[]]\n",
    "    max_size = 500\n",
    "    jobs = deque()\n",
    "\n",
    "    while data:\n",
    "        row = data.popleft()\n",
    "        for idx in range(len(regions)):\n",
    "            region = regions[idx]\n",
    "            if not region:\n",
    "                region.append(row)\n",
    "                region.sort()\n",
    "                jobs.append(idx)\n",
    "                break\n",
    "            if row < region[-1]:\n",
    "                region.append(row)\n",
    "                region.sort()\n",
    "                jobs.append(idx)\n",
    "                if len(region) == max_size:\n",
    "                    new_region = []\n",
    "                    while len(region) > max_size // 2:\n",
    "                        new_region.append(region.pop())\n",
    "                    regions.append(new_region[::-1])\n",
    "                break\n",
    "        else:\n",
    "            region = regions[-1]\n",
    "            region.append(row)\n",
    "            region.sort()\n",
    "            jobs.append(len(regions) - 1)\n",
    "            if len(region) == max_size:\n",
    "                new_region = []\n",
    "                while len(region) > max_size // 2:\n",
    "                    new_region.append(region.pop())\n",
    "                regions.append(new_region[::-1])\n",
    "                \n",
    "    idx = 0\n",
    "    repeat = 0\n",
    "    repeats = []\n",
    "    while jobs:\n",
    "        job = jobs.popleft()\n",
    "        if idx == job:\n",
    "            repeat += 1\n",
    "            continue\n",
    "        else:\n",
    "            repeats.append(repeat)\n",
    "            repeat = 1\n",
    "            idx = job\n",
    "    return repeats"
   ]
  },
  {
   "cell_type": "markdown",
   "id": "e36bd295-7c08-4699-9c75-0bc47eaae200",
   "metadata": {},
   "source": [
    "## default"
   ]
  },
  {
   "cell_type": "code",
   "execution_count": 36,
   "id": "957f1f26-9081-46e6-a559-8b7e5225dcfa",
   "metadata": {},
   "outputs": [
    {
     "data": {
      "text/plain": [
       "[500, 250, 250, 250, 250, 250, 250]"
      ]
     },
     "execution_count": 36,
     "metadata": {},
     "output_type": "execute_result"
    }
   ],
   "source": [
    "reverse_ticker = sorted([(ticker[::-1], size) for ticker, size in tickers])\n",
    "overheads(deque(reverse_ticker))"
   ]
  },
  {
   "cell_type": "markdown",
   "id": "a6eda864-e802-4ce8-914f-e5fdb2a74a20",
   "metadata": {},
   "source": [
    "## random"
   ]
  },
  {
   "cell_type": "code",
   "execution_count": 37,
   "id": "6c7db288-da5e-42e4-8466-bb65db634d60",
   "metadata": {},
   "outputs": [],
   "source": [
    "import random\n",
    "\n",
    "copied = reverse_ticker[::]\n",
    "random.shuffle(copied)"
   ]
  },
  {
   "cell_type": "code",
   "execution_count": 38,
   "id": "c1b650de-920f-4259-8027-4ec380cada9d",
   "metadata": {},
   "outputs": [
    {
     "data": {
      "text/plain": [
       "Counter({500: 1,\n",
       "         2: 209,\n",
       "         4: 36,\n",
       "         3: 95,\n",
       "         1: 639,\n",
       "         5: 12,\n",
       "         8: 1,\n",
       "         10: 2,\n",
       "         7: 3,\n",
       "         6: 6,\n",
       "         16: 1,\n",
       "         9: 1})"
      ]
     },
     "execution_count": 38,
     "metadata": {},
     "output_type": "execute_result"
    }
   ],
   "source": [
    "from collections import Counter\n",
    "\n",
    "Counter(overheads(deque(copied)))"
   ]
  },
  {
   "cell_type": "code",
   "execution_count": null,
   "id": "9b982a6c-03f6-4148-a410-794aebde5f2e",
   "metadata": {},
   "outputs": [],
   "source": []
  },
  {
   "cell_type": "code",
   "execution_count": null,
   "id": "f281c13c-b7e3-4214-84e9-34469412a04e",
   "metadata": {},
   "outputs": [],
   "source": []
  },
  {
   "cell_type": "markdown",
   "id": "6fb7c81f-4e4a-439d-9e39-08de0446d60e",
   "metadata": {},
   "source": [
    "## hbase\n"
   ]
  },
  {
   "cell_type": "markdown",
   "id": "3ab13bcc-73fe-41a2-80e4-116f8e8f3a5f",
   "metadata": {},
   "source": [
    "### key design"
   ]
  },
  {
   "cell_type": "markdown",
   "id": "cd09395a-0b84-4825-a9cd-22ac5bb67acb",
   "metadata": {},
   "source": [
    "#### reverse_code:date:hashed_title\n",
    "    예시) 005930, 2018-07-13, 어쩌구저쩌구 -> b'03950020180713151cc02d351112665700a298daf6b4fe'\n",
    "    \n",
    "    특정 종목의 특정 날짜 범위의 모든 뉴스를 가져올 때 유리"
   ]
  },
  {
   "cell_type": "code",
   "execution_count": 39,
   "id": "a4128021-8181-4e8e-9b40-9c7d1393f82f",
   "metadata": {},
   "outputs": [
    {
     "data": {
      "text/plain": [
       "'151cc02d351112665700a298daf6b4fe'"
      ]
     },
     "execution_count": 39,
     "metadata": {},
     "output_type": "execute_result"
    }
   ],
   "source": [
    "from hashlib import md5\n",
    "\n",
    "md5('어쩌구저쩌구'.encode()).hexdigest()"
   ]
  },
  {
   "cell_type": "code",
   "execution_count": 95,
   "id": "3f2ff5aa-e2f0-4aad-ae95-6625283a73df",
   "metadata": {},
   "outputs": [],
   "source": [
    "# hbase.rpc.timeout                   60 sec\n",
    "# hbase.hregion.memstore.flush.size   128mb\n",
    "# hbase.hregion.max.filesize          10gb"
   ]
  },
  {
   "cell_type": "code",
   "execution_count": 200,
   "id": "72054772-80dc-4a6d-b10d-c8892aedc8bd",
   "metadata": {},
   "outputs": [
    {
     "data": {
      "text/plain": [
       "268435456"
      ]
     },
     "execution_count": 200,
     "metadata": {},
     "output_type": "execute_result"
    }
   ],
   "source": [
    "256*1024*1024"
   ]
  },
  {
   "cell_type": "code",
   "execution_count": 6,
   "id": "dd3497d2-c29d-4bb2-bbd3-b9488ef33870",
   "metadata": {},
   "outputs": [],
   "source": [
    "import happybase\n",
    "\n",
    "connection = happybase.Connection('localhost', port=9090)\n",
    "connection.open()\n"
   ]
  },
  {
   "cell_type": "markdown",
   "id": "712b8d59-b9ac-4674-8b52-726ecb22d658",
   "metadata": {},
   "source": [
    "### make table and get handler"
   ]
  },
  {
   "cell_type": "code",
   "execution_count": 62,
   "id": "bdd885ab-e519-4cfd-852d-f39bbfbe8aa9",
   "metadata": {},
   "outputs": [],
   "source": [
    "# 테이블 생성\n",
    "table_name = 'tickers'\n",
    "if bytes(table_name, \"utf-8\") not in connection.tables():\n",
    "    connection.create_table(table_name, {'cf': dict()})\n",
    "connection.tables()\n",
    "\n",
    "# 'my_table'에 대한 핸들을 얻음\n",
    "table = connection.table(table_name)"
   ]
  },
  {
   "cell_type": "markdown",
   "id": "2a559d4b-ec2c-4c20-8a85-8989b23f9148",
   "metadata": {},
   "source": [
    "### upload data"
   ]
  },
  {
   "cell_type": "code",
   "execution_count": 10,
   "id": "1bdd091b-b814-4ec0-839a-2867ed058d44",
   "metadata": {},
   "outputs": [
    {
     "name": "stderr",
     "output_type": "stream",
     "text": [
      "100%|███████████████████████████████████████| 2160/2160 [00:52<00:00, 41.24it/s]"
     ]
    },
    {
     "name": "stdout",
     "output_type": "stream",
     "text": [
      "52.4082407951355 sec\n"
     ]
    },
    {
     "name": "stderr",
     "output_type": "stream",
     "text": [
      "\n"
     ]
    }
   ],
   "source": [
    "from hashlib import md5\n",
    "import os, csv, random\n",
    "from tqdm import tqdm\n",
    "from time import time\n",
    "\n",
    "tickers = []\n",
    "for file in os.listdir(\"data\"):\n",
    "    ticker, suffix = file.split(\".\")\n",
    "    if ticker and suffix == \"csv\":\n",
    "        tickers.append(ticker)\n",
    "random.shuffle(tickers)\n",
    "\n",
    "s = time()\n",
    "with table.batch(batch_size=1000) as b:\n",
    "    for ticker in tqdm(tickers):\n",
    "        with open(f'data/{ticker}.csv', 'r') as csv_file:\n",
    "            reader = csv.reader(csv_file)\n",
    "            for i, row in enumerate(reader):\n",
    "                if i:\n",
    "                    source, symbol, link, date, title, content = row\n",
    "                    rowkey = f'{symbol[::-1]}:{date[:10].replace(\"-\",\"\")}:{md5(title.encode()).hexdigest()}'\n",
    "                    b.put(rowkey, {'cf:title': title, 'cf:content': content})\n",
    "print(time() - s, 'sec') # 45 sec"
   ]
  },
  {
   "cell_type": "code",
   "execution_count": null,
   "id": "0e065a13-5c06-419d-8b20-6e8a54f5ad0c",
   "metadata": {},
   "outputs": [],
   "source": []
  },
  {
   "cell_type": "markdown",
   "id": "6b09e883-5756-4c63-91cf-6642f6b2404f",
   "metadata": {},
   "source": [
    "### make table and get handler for processed data"
   ]
  },
  {
   "cell_type": "code",
   "execution_count": 63,
   "id": "b0b21fee-72ca-4802-904d-877af01fabab",
   "metadata": {},
   "outputs": [],
   "source": [
    "# 테이블 생성\n",
    "table_name = 'tickers_processed'\n",
    "if bytes(table_name, \"utf-8\") not in connection.tables():\n",
    "    connection.create_table(table_name, {'cf': dict()})\n",
    "connection.tables()\n",
    "\n",
    "# 'my_table'에 대한 핸들을 얻음\n",
    "table = connection.table(table_name)"
   ]
  },
  {
   "cell_type": "code",
   "execution_count": 12,
   "id": "026ee6a4-8a32-4311-a830-efc57ce60881",
   "metadata": {},
   "outputs": [
    {
     "name": "stderr",
     "output_type": "stream",
     "text": [
      "100%|███████████████████████████████████████| 2160/2160 [19:42<00:00,  1.83it/s]"
     ]
    },
    {
     "name": "stdout",
     "output_type": "stream",
     "text": [
      "1182.1367540359497 sec\n"
     ]
    },
    {
     "name": "stderr",
     "output_type": "stream",
     "text": [
      "\n"
     ]
    }
   ],
   "source": [
    "from hashlib import md5\n",
    "import os, csv, random\n",
    "from tqdm import tqdm\n",
    "from time import time\n",
    "\n",
    "tickers = []\n",
    "for file in os.listdir(\"data\"):\n",
    "    ticker, suffix = file.split(\".\")\n",
    "    if ticker and suffix == \"csv\":\n",
    "        tickers.append(ticker)\n",
    "random.shuffle(tickers)\n",
    "\n",
    "s = time()\n",
    "with table.batch(batch_size=1000) as b:\n",
    "    for ticker in tqdm(tickers):\n",
    "        with open(f'data/{ticker}.csv', 'r') as csv_file:\n",
    "            reader = csv.reader(csv_file)\n",
    "            for i, row in enumerate(reader):\n",
    "                if i:\n",
    "                    source, symbol, link, date, title, content = row\n",
    "                    title, content = preprocess_words(title), preprocess_words(content)\n",
    "                    rowkey = f'{symbol[::-1]}:{date[:10].replace(\"-\",\"\")}:{md5(title.encode()).hexdigest()}'\n",
    "                    b.put(rowkey, {'cf:title': title, 'cf:content': content})\n",
    "print(time() - s, 'sec') # 45 sec"
   ]
  },
  {
   "cell_type": "code",
   "execution_count": null,
   "id": "d4e7d76c-10ce-4248-8479-952bd828d551",
   "metadata": {},
   "outputs": [],
   "source": []
  },
  {
   "cell_type": "markdown",
   "id": "9c1fc91f-10a9-4aac-9647-c6f0ea59e3f5",
   "metadata": {},
   "source": [
    "### read data"
   ]
  },
  {
   "cell_type": "code",
   "execution_count": 64,
   "id": "6fe5d348-433a-41c0-8631-d4919a82a9a3",
   "metadata": {},
   "outputs": [],
   "source": [
    "connection = happybase.Connection('localhost', port=9090)\n",
    "connection.open()\n",
    "\n",
    "table_name = 'tickers' # 'tickers_processed'\n",
    "table = connection.table(table_name)\n",
    "n = 10\n",
    "for key, data in table.scan(row_start='039500:2018', row_stop='039500:2019', columns=['cf:title', 'cf:content']):\n",
    "    #print(key, data)  # key와 data를 출력\n",
    "    print(data[b'cf:title'].decode())\n",
    "    #print(data[b'cf:content'].decode())\n",
    "    n -= 1\n",
    "    if not n:\n",
    "        break"
   ]
  },
  {
   "cell_type": "code",
   "execution_count": null,
   "id": "630d02e7-995e-43f9-a6b9-e98045ad471f",
   "metadata": {},
   "outputs": [],
   "source": []
  },
  {
   "cell_type": "markdown",
   "id": "bef71658-0fdb-42cb-b4ec-b297ef4b24f4",
   "metadata": {},
   "source": [
    "### delete row"
   ]
  },
  {
   "cell_type": "code",
   "execution_count": null,
   "id": "eb2a9439-e52d-47e7-9d92-703b45f9da34",
   "metadata": {},
   "outputs": [],
   "source": [
    "table.delete(b'row_key')"
   ]
  },
  {
   "cell_type": "code",
   "execution_count": null,
   "id": "c96f968f-65a3-4a55-a1b3-c846ede3e9c6",
   "metadata": {},
   "outputs": [],
   "source": []
  },
  {
   "cell_type": "markdown",
   "id": "a2c88963-a423-4e41-9262-c8c3d07e8afe",
   "metadata": {},
   "source": [
    "### delete table"
   ]
  },
  {
   "cell_type": "code",
   "execution_count": 60,
   "id": "371d0741-6478-403c-a20d-93d34d4355dd",
   "metadata": {},
   "outputs": [],
   "source": [
    "# 테이블을 비활성화합니다.\n",
    "connection.disable_table('tickers')\n",
    "\n",
    "# 테이블을 삭제합니다.\n",
    "connection.delete_table('tickers')"
   ]
  },
  {
   "cell_type": "code",
   "execution_count": null,
   "id": "77ab2715-6dee-4b81-81b5-47f514daff48",
   "metadata": {},
   "outputs": [],
   "source": []
  },
  {
   "cell_type": "code",
   "execution_count": null,
   "id": "be37dbcc-589b-4b36-a0d8-16ae3d2a5eeb",
   "metadata": {},
   "outputs": [],
   "source": []
  },
  {
   "cell_type": "markdown",
   "id": "b063b45f-a421-47cb-98a8-362c665c53cb",
   "metadata": {},
   "source": [
    "### check for airflow"
   ]
  },
  {
   "cell_type": "code",
   "execution_count": 53,
   "id": "05cda579-f5c4-43da-a940-fc2d855b0f3d",
   "metadata": {},
   "outputs": [],
   "source": [
    "t1, t2 = connection.table('tickers'), connection.table('tickers_processed')\n",
    "for key in keys:\n",
    "    t1.delete(key)\n",
    "    t2.delete(key)"
   ]
  },
  {
   "cell_type": "code",
   "execution_count": 14,
   "id": "a82b902f-85a3-4aaf-849e-b2d830f9863b",
   "metadata": {},
   "outputs": [
    {
     "name": "stdout",
     "output_type": "stream",
     "text": [
      "b'024530:20230620:2d7b7eeaaee56a55e57b3c1d3aab3b59'\n",
      "네이버 AI 챗봇 서비스명 '큐:'…내달 중 공개\n",
      "\n",
      "b'024530:20230620:a54142d8eed28429bc49c174e8f0f014'\n",
      "[미리보는 이데일리 신문] “AI인력 스카우트 멈춰”…네이버, SKT에 경고장\n",
      "\n",
      "b'024530:20230620:eae8024798aec003571f14a437593a10'\n",
      "\"AI 스카우트 그만!\" 네이버, SKT 상대로 내용증명\n",
      "\n",
      "b'024530:20230620:f71dfcde83b0d27bbe1c6a81661f672f'\n",
      "신세계發 멤버십 전쟁…쿠팡·네이버, 강력한 도전자를 만나다\n",
      "\n",
      "b'024530:20230622:25e500d3ec1a3db0bbbae7518b5b785f'\n",
      "\"AI 편향적 발언 차단 지원\" 네이버, 학습 데이터셋 전면 공개\n",
      "\n",
      "b'024530:20230622:62438cd2d1d2e9bca7bf35edb36f2b04'\n",
      "“ ‘큐:’ 확정한 NAVER, 3Q 두자릿수 이익 성장률 회복…성장 주도주 귀환 가능” [투자360]\n",
      "\n",
      "b'024530:20230622:84c7b63a4d4f5e8d0e4eb8100c9f5825'\n",
      "[단독] 서치GPT 말고 더 있다…반격 준비하는 네이버\n",
      "\n",
      "b'024530:20230622:a83bdab3e469e234fbceee7fae4a1359'\n",
      "세계가 주목할 때 드라이브…네이버웹툰, 국제 행사서 존재감 ‘뿜뿜’\n",
      "\n",
      "b'024530:20230622:b05349d1310ab3a5eb760f07f4659106'\n",
      "“AI로 주가조작 전방위 포착”…네이버 만나는 금감원\n",
      "\n",
      "b'024530:20230623:55f594da25d72ce453be374b86082d68'\n",
      "\"심리 상담받고 싶다면 네이버 인물정보로 찾아보세요\"\n",
      "\n",
      "b'024530:20230623:858ec281719ab1c5bddafd98b0c199e7'\n",
      "오션뷰 숙소 가고픈데…네이버 검색으로 쉽게 찾는다\n",
      "\n",
      "b'024530:20230623:863d1a2a967d066d30b56ac067405763'\n",
      "AI휴먼 '큐리', 머니투데이 유튜브·네이버TV로 데뷔\n",
      "\n",
      "b'024530:20230623:a5aac0462b143b94c144c1beb1a399df'\n",
      "‘기술 기업’ 네이버, 디자인도 잘하네…클로바 페이스사인 ‘레드닷’ 수상\n",
      "\n",
      "b'024530:20230623:b74ce866eda0b574381c69025f9b6015'\n",
      "전북도-네이버, 인공지능 안부전화서비스 시행 협약\n",
      "\n",
      "14 articles\n",
      "----------------------------------------------------------------------------------------------------\n",
      "b'024530:20230620:2d7b7eeaaee56a55e57b3c1d3aab3b59'\n",
      "네이버 AI 서비스 내달 공개\n",
      "\n",
      "b'024530:20230620:a54142d8eed28429bc49c174e8f0f014'\n",
      "미리 데일리 신문 AI 인력 스카우트 네이버 SKT 경고장\n",
      "\n",
      "b'024530:20230620:eae8024798aec003571f14a437593a10'\n",
      "AI 스카우트 그만 네이버 SKT 상대 내용증명\n",
      "\n",
      "b'024530:20230620:f71dfcde83b0d27bbe1c6a81661f672f'\n",
      "신세계 멤버십 전쟁 쿠팡 네이버 도전자 만나\n",
      "\n",
      "b'024530:20230622:25e500d3ec1a3db0bbbae7518b5b785f'\n",
      "편향 발언 차단 지원 네이버 학습 데이터 전면 공개\n",
      "\n",
      "b'024530:20230622:62438cd2d1d2e9bca7bf35edb36f2b04'\n",
      "확정 자릿수 이익 성장률 회복 성장 주도 귀환 가능 투자\n",
      "\n",
      "b'024530:20230622:84c7b63a4d4f5e8d0e4eb8100c9f5825'\n",
      "단독 서치 반격 준비 네이버\n",
      "\n",
      "b'024530:20230622:a83bdab3e469e234fbceee7fae4a1359'\n",
      "세계 주목 드라이브 네이버 웹툰 국제 행사 존재감\n",
      "\n",
      "b'024530:20230622:b05349d1310ab3a5eb760f07f4659106'\n",
      "주가 조작 전방 포착 네이버 만나 금감원\n",
      "\n",
      "b'024530:20230623:55f594da25d72ce453be374b86082d68'\n",
      "심리 상담 네이버 인물 정보 찾아보\n",
      "\n",
      "b'024530:20230623:858ec281719ab1c5bddafd98b0c199e7'\n",
      "오션 숙소 네이버 검색\n",
      "\n",
      "b'024530:20230623:863d1a2a967d066d30b56ac067405763'\n",
      "휴먼 큐리 머니 투데이 유튜브 네이버 데뷔\n",
      "\n",
      "b'024530:20230623:a5aac0462b143b94c144c1beb1a399df'\n",
      "기술 기업 네이버 디자인 로바 페이스 사인 레드 수상\n",
      "\n",
      "b'024530:20230623:b74ce866eda0b574381c69025f9b6015'\n",
      "전북 네이버 인공지능 안부 전화 서비스 시행 협약\n",
      "\n",
      "14 articles\n"
     ]
    }
   ],
   "source": [
    "connection = happybase.Connection('localhost', port=9090)\n",
    "connection.open()\n",
    "\n",
    "[\"005930\", \"035420\"]\n",
    "\n",
    "keys = []\n",
    "table_name = 'tickers' # 'tickers_processed'\n",
    "ticker = '035420'\n",
    "table = connection.table(table_name)\n",
    "n = 0\n",
    "for key, data in table.scan(row_start=f'{ticker[::-1]}:2023', row_stop=f'{ticker[::-1]}:20231', columns=['cf:title', 'cf:content']):\n",
    "    #print(key, data)  # key와 data를 출력\n",
    "    print(key)\n",
    "    print(data[b'cf:title'].decode())\n",
    "    # print(data[b'cf:content'].decode())\n",
    "    n += 1\n",
    "    print()\n",
    "    keys.append(key)\n",
    "print(n, 'articles')\n",
    "print('-' * 100)\n",
    "\n",
    "n = 0\n",
    "table_name = 'tickers_processed' # 'tickers_processed'\n",
    "table = connection.table(table_name)\n",
    "for key, data in table.scan(row_start=f'{ticker[::-1]}:2023', row_stop=f'{ticker[::-1]}:20231', columns=['cf:title', 'cf:content']):\n",
    "    #print(key, data)  # key와 data를 출력\n",
    "    print(key)\n",
    "    print(data[b'cf:title'].decode())\n",
    "    #print(data[b'cf:content'].decode())\n",
    "    n += 1\n",
    "    print()\n",
    "    keys.append(key)\n",
    "print(n, 'articles')"
   ]
  },
  {
   "cell_type": "code",
   "execution_count": null,
   "id": "1c3ff4dd-d3fc-49d5-9716-b0195db695d2",
   "metadata": {},
   "outputs": [],
   "source": []
  },
  {
   "cell_type": "code",
   "execution_count": null,
   "id": "dc4f2b30-3e85-4ea0-910a-150599f47bd6",
   "metadata": {},
   "outputs": [],
   "source": []
  },
  {
   "cell_type": "code",
   "execution_count": null,
   "id": "f2afc1d1-3448-4592-a9de-5700ec616653",
   "metadata": {},
   "outputs": [],
   "source": []
  }
 ],
 "metadata": {
  "kernelspec": {
   "display_name": "Python 3 (ipykernel)",
   "language": "python",
   "name": "python3"
  },
  "language_info": {
   "codemirror_mode": {
    "name": "ipython",
    "version": 3
   },
   "file_extension": ".py",
   "mimetype": "text/x-python",
   "name": "python",
   "nbconvert_exporter": "python",
   "pygments_lexer": "ipython3",
   "version": "3.9.16"
  }
 },
 "nbformat": 4,
 "nbformat_minor": 5
}
