{
 "cells": [
  {
   "cell_type": "markdown",
   "id": "7b106a71-20d3-4864-9115-34498e028fcc",
   "metadata": {},
   "source": [
    "## Client"
   ]
  },
  {
   "cell_type": "code",
   "execution_count": 1,
   "id": "455bf1fa-71b5-409c-a018-570eecac48cd",
   "metadata": {},
   "outputs": [],
   "source": [
    "import sys\n",
    "import json\n",
    "import requests\n",
    "\n",
    "\n",
    "class Client:\n",
    "    \"\"\"\n",
    "        official docs:\n",
    "            https://hadoop.apache.org/docs/r3.3.5/hadoop-project-dist/hadoop-hdfs/WebHDFS.html\n",
    "        python library:\n",
    "            https://github.com/mtth/hdfs\n",
    "    \"\"\"\n",
    "    def __init__(self, namenode='http://localhost:9870', user='root'):\n",
    "        self.namenode = namenode\n",
    "        self.ports = {'datanode1': '9862', 'datanode2': '9863', 'datanode3': '9864'}\n",
    "        self.session = requests.Session()\n",
    "        self.session.params['user.name'] = user\n",
    "    \n",
    "    def ls(self, hdfs_path):\n",
    "        hdfs_path = hdfs_path.lstrip('/')\n",
    "        \n",
    "        url = f'{self.namenode}/webhdfs/v1/{hdfs_path}?op=LISTSTATUS'\n",
    "        res = self.session.get(url)\n",
    "        return [status['pathSuffix'] for status in res.json()['FileStatuses']['FileStatus']]\n",
    "    \n",
    "    def mkdir(self, hdfs_path):\n",
    "        hdfs_path = hdfs_path.lstrip('/')\n",
    "        \n",
    "        url = f'{self.namenode}/webhdfs/v1/{hdfs_path}?op=MKDIRS'\n",
    "        res = self.session.put(url)\n",
    "        return res.json()\n",
    "    \n",
    "    def write(self, hdfs_path, data, overwrite=False, buffersize=128*1024, append=False):\n",
    "        hdfs_path = hdfs_path.lstrip('/')\n",
    "        \n",
    "        # namenode에게 데이터를 쓸 datanode 요청\n",
    "        url = f\"{self.namenode}/webhdfs/v1/{hdfs_path}?\"\n",
    "        if append:\n",
    "            if overwrite:\n",
    "                raise ValueError('Cannot both overwrite and append.')\n",
    "            url += \"op=APPEND\"\n",
    "        else:\n",
    "            url += \"op=CREATE\"\n",
    "        url += f\"&noredirect=true&overwrite={str(overwrite).lower()}&buffersize={buffersize}\"\n",
    "        res = self.session.post(url) if append else self.session.put(url)\n",
    "\n",
    "        # datanode 주소 변환\n",
    "        location = res.json()['Location']\n",
    "        location = self.transform(location)\n",
    "        \n",
    "        # datanode에게 데이터 쓰기 요청\n",
    "        res = self.session.post(location, data=data) if append else self.session.put(location, data=data)\n",
    "        return res\n",
    "    \n",
    "    def upload(self, hdfs_path, local_path, buffersize=128*1024):\n",
    "        hdfs_path = hdfs_path.lstrip('/')\n",
    "        try:\n",
    "            with open(local_path, 'rb') as reader:\n",
    "                data = reader.read()\n",
    "                self.write(hdfs_path, data, buffersize=buffersize)\n",
    "            return True\n",
    "        except:\n",
    "            self.delete(hdfs_path)\n",
    "            return False\n",
    "    \n",
    "    def read(self, hdfs_path, buffersize=128*1024):\n",
    "        hdfs_path = hdfs_path.lstrip('/')\n",
    "        \n",
    "        # namenode에게 데이터를 읽울 datanode 요청\n",
    "        url = f\"{self.namenode}/webhdfs/v1/{hdfs_path}?op=OPEN&noredirect=true&buffersize={buffersize}\"\n",
    "        res = self.session.get(url)\n",
    "        \n",
    "        # datanode 주소 변환\n",
    "        location = res.json()['Location']\n",
    "        location = self.transform(location)\n",
    "        \n",
    "        # datanode에게 데이터 읽기 요청\n",
    "        res = self.session.get(location)\n",
    "        return res\n",
    "    \n",
    "    def download(self, hdfs_path, local_path, buffersize=128*1024):\n",
    "        hdfs_path = hdfs_path.lstrip('/')\n",
    "        \n",
    "        try:\n",
    "            with open(local_path, 'wb') as writer:\n",
    "                with self.read(hdfs_path, buffersize=buffersize) as reader:\n",
    "                    for chunk in reader:\n",
    "                        writer.write(chunk)\n",
    "            return True\n",
    "        except:\n",
    "            return False\n",
    "    \n",
    "    def delete(self, hdfs_path, isdir=False):\n",
    "        hdfs_path = hdfs_path.lstrip('/')\n",
    "        \n",
    "        url = f'{self.namenode}/webhdfs/v1/{hdfs_path}?op=DELETE&recursive={str(isdir).lower()}'\n",
    "        res = self.session.delete(url)\n",
    "        return res.json()\n",
    "    \n",
    "    def transform(self, location):\n",
    "        location = location.split(\"/\")\n",
    "        datanode, _ = location[2].split(\":\")\n",
    "        location[2] = f'localhost:{self.ports[datanode]}'\n",
    "        return '/'.join(location)"
   ]
  },
  {
   "cell_type": "code",
   "execution_count": null,
   "id": "145e6111-289a-40d3-a24a-55919055a867",
   "metadata": {},
   "outputs": [],
   "source": []
  },
  {
   "cell_type": "code",
   "execution_count": 493,
   "id": "bf543ea3-3f4c-4d02-bd68-be9bd4e583bb",
   "metadata": {},
   "outputs": [],
   "source": [
    "hdfs = Client()"
   ]
  },
  {
   "cell_type": "code",
   "execution_count": null,
   "id": "2f7a2857-b2c8-4d70-873e-dd7401b4f947",
   "metadata": {},
   "outputs": [],
   "source": []
  },
  {
   "cell_type": "code",
   "execution_count": null,
   "id": "709a505f-3fbc-43fc-8339-ab899b976abb",
   "metadata": {},
   "outputs": [],
   "source": []
  },
  {
   "cell_type": "markdown",
   "id": "76dcae86-1762-4990-bcff-f55f160c28f4",
   "metadata": {
    "tags": []
   },
   "source": [
    "#### make directory"
   ]
  },
  {
   "cell_type": "code",
   "execution_count": 474,
   "id": "86908eb2-dbaf-4701-89eb-cc119dbe5283",
   "metadata": {},
   "outputs": [
    {
     "data": {
      "text/plain": [
       "{'boolean': True}"
      ]
     },
     "execution_count": 474,
     "metadata": {},
     "output_type": "execute_result"
    }
   ],
   "source": [
    "hdfs.mkdir('/test')"
   ]
  },
  {
   "cell_type": "code",
   "execution_count": null,
   "id": "b4983373-70a1-4a4b-95c3-660f3aa0b241",
   "metadata": {},
   "outputs": [],
   "source": []
  },
  {
   "cell_type": "markdown",
   "id": "fa51c61e-b68c-491a-b8f7-8807c48b437f",
   "metadata": {},
   "source": [
    "#### list directory"
   ]
  },
  {
   "cell_type": "code",
   "execution_count": 475,
   "id": "47e1f67d-b43b-401f-927f-3b467799c9af",
   "metadata": {},
   "outputs": [
    {
     "data": {
      "text/plain": [
       "['hbase', 'models', 'test']"
      ]
     },
     "execution_count": 475,
     "metadata": {},
     "output_type": "execute_result"
    }
   ],
   "source": [
    "hdfs.ls('/')"
   ]
  },
  {
   "cell_type": "code",
   "execution_count": null,
   "id": "ec8cf0e1-b10f-44ee-a646-813b5191fe2a",
   "metadata": {},
   "outputs": [],
   "source": []
  },
  {
   "cell_type": "markdown",
   "id": "fa1d9c26-6e29-40b6-bc77-b88091909fc1",
   "metadata": {},
   "source": [
    "#### write data"
   ]
  },
  {
   "cell_type": "code",
   "execution_count": 476,
   "id": "4d88871b-6736-478f-b55a-04d8e052fc3f",
   "metadata": {},
   "outputs": [],
   "source": [
    "res = hdfs.write('/test/test.txt', 'test text file!', overwrite=True, append=False)"
   ]
  },
  {
   "cell_type": "code",
   "execution_count": null,
   "id": "3a70cea0-2527-470e-ba47-766cb1626c6b",
   "metadata": {},
   "outputs": [],
   "source": []
  },
  {
   "cell_type": "markdown",
   "id": "0bbaa2c9-9303-44f1-8046-7719e5cf0f5b",
   "metadata": {},
   "source": [
    "#### read data"
   ]
  },
  {
   "cell_type": "code",
   "execution_count": 477,
   "id": "4d28f8ee-8344-46b8-ab83-05546cd500fd",
   "metadata": {},
   "outputs": [
    {
     "data": {
      "text/plain": [
       "b'test text file!'"
      ]
     },
     "execution_count": 477,
     "metadata": {},
     "output_type": "execute_result"
    }
   ],
   "source": [
    "res = hdfs.read('/test/test.txt')\n",
    "res.content"
   ]
  },
  {
   "cell_type": "code",
   "execution_count": null,
   "id": "d8900f75-c1af-4c87-a787-c1d9269e1f0f",
   "metadata": {},
   "outputs": [],
   "source": []
  },
  {
   "cell_type": "markdown",
   "id": "2946e77b-117a-4bf1-9fba-f77c0db5b662",
   "metadata": {},
   "source": [
    "#### upload data"
   ]
  },
  {
   "cell_type": "code",
   "execution_count": 478,
   "id": "5acb8c49-b82e-4a15-aa63-201bec2a89c4",
   "metadata": {},
   "outputs": [],
   "source": [
    "import pickle\n",
    "\n",
    "data = {\n",
    "    'a': [1, 2.0, 3, 4+6j],\n",
    "    'b': ('string', u'Unicode string'),\n",
    "    'c': None\n",
    "}\n",
    "\n",
    "with open('data.pkl', 'wb') as f:\n",
    "    pickle.dump(data, f)"
   ]
  },
  {
   "cell_type": "code",
   "execution_count": 479,
   "id": "d66f2ff2-4a18-48f2-93f4-2397f13e6395",
   "metadata": {},
   "outputs": [
    {
     "data": {
      "text/plain": [
       "True"
      ]
     },
     "execution_count": 479,
     "metadata": {},
     "output_type": "execute_result"
    }
   ],
   "source": [
    "hdfs.upload('/test/data.pkl', 'data.pkl')"
   ]
  },
  {
   "cell_type": "code",
   "execution_count": 480,
   "id": "a3a783ee-e642-4ab3-a419-f553886558bf",
   "metadata": {},
   "outputs": [
    {
     "data": {
      "text/plain": [
       "{'a': [1, 2.0, 3, (4+6j)], 'b': ('string', 'Unicode string'), 'c': None}"
      ]
     },
     "execution_count": 480,
     "metadata": {},
     "output_type": "execute_result"
    }
   ],
   "source": [
    "res = hdfs.read('/test/data.pkl')\n",
    "pickle.loads(res.content)"
   ]
  },
  {
   "cell_type": "code",
   "execution_count": null,
   "id": "2158f6d0-84fc-44fb-ba21-1767f2c6cd48",
   "metadata": {},
   "outputs": [],
   "source": []
  },
  {
   "cell_type": "markdown",
   "id": "037ea8c9-2db4-4b9e-8192-e35baaa78578",
   "metadata": {},
   "source": [
    "#### download data"
   ]
  },
  {
   "cell_type": "code",
   "execution_count": 481,
   "id": "abba053c-4198-425f-ae4f-c20b6a4e1eed",
   "metadata": {},
   "outputs": [
    {
     "data": {
      "text/plain": [
       "False"
      ]
     },
     "execution_count": 481,
     "metadata": {},
     "output_type": "execute_result"
    }
   ],
   "source": [
    "hdfs.download('/test/data.pkl', 'downloaded.pkl')"
   ]
  },
  {
   "cell_type": "code",
   "execution_count": 482,
   "id": "3d4e148c-7b7b-40c9-918c-24510f11db96",
   "metadata": {},
   "outputs": [
    {
     "name": "stdout",
     "output_type": "stream",
     "text": [
      "{'a': [1, 2.0, 3, (4+6j)], 'b': ('string', 'Unicode string'), 'c': None}\n"
     ]
    }
   ],
   "source": [
    "with open('downloaded.pkl', 'rb') as f:\n",
    "    print(pickle.load(f))"
   ]
  },
  {
   "cell_type": "code",
   "execution_count": null,
   "id": "567b9a58-0add-443f-9df2-735e55c4c12a",
   "metadata": {},
   "outputs": [],
   "source": []
  },
  {
   "cell_type": "markdown",
   "id": "46920aed-5ce9-4bb3-9361-0f0b64c8553c",
   "metadata": {},
   "source": [
    "#### delete data"
   ]
  },
  {
   "cell_type": "code",
   "execution_count": 373,
   "id": "2cc7ec4e-39b9-4323-bfef-4d1615725095",
   "metadata": {},
   "outputs": [
    {
     "data": {
      "text/plain": [
       "['data.pkl', 'test.txt', 'test2.txt']"
      ]
     },
     "execution_count": 373,
     "metadata": {},
     "output_type": "execute_result"
    }
   ],
   "source": [
    "hdfs.ls('/test')"
   ]
  },
  {
   "cell_type": "code",
   "execution_count": 376,
   "id": "2402d8e1-d69c-459d-b05b-24006a101b59",
   "metadata": {},
   "outputs": [
    {
     "data": {
      "text/plain": [
       "{'boolean': False}"
      ]
     },
     "execution_count": 376,
     "metadata": {},
     "output_type": "execute_result"
    }
   ],
   "source": [
    "hdfs.delete('/test/data.pkl')"
   ]
  },
  {
   "cell_type": "code",
   "execution_count": 375,
   "id": "b013fdf5-6b85-428c-b37f-d394295461f2",
   "metadata": {},
   "outputs": [
    {
     "data": {
      "text/plain": [
       "['test.txt', 'test2.txt']"
      ]
     },
     "execution_count": 375,
     "metadata": {},
     "output_type": "execute_result"
    }
   ],
   "source": [
    "hdfs.ls('/test')"
   ]
  },
  {
   "cell_type": "code",
   "execution_count": 379,
   "id": "80100080-0c0b-43d6-a027-4063b2dc76ae",
   "metadata": {},
   "outputs": [
    {
     "data": {
      "text/plain": [
       "{'boolean': True}"
      ]
     },
     "execution_count": 379,
     "metadata": {},
     "output_type": "execute_result"
    }
   ],
   "source": [
    "hdfs.delete('/test', isdir=True)"
   ]
  },
  {
   "cell_type": "code",
   "execution_count": 380,
   "id": "6a0386e4-4448-4d13-96b9-52962f9ae6a3",
   "metadata": {},
   "outputs": [
    {
     "data": {
      "text/plain": [
       "['hbase']"
      ]
     },
     "execution_count": 380,
     "metadata": {},
     "output_type": "execute_result"
    }
   ],
   "source": [
    "hdfs.ls('/')"
   ]
  },
  {
   "cell_type": "code",
   "execution_count": null,
   "id": "8217edfa-8753-426d-9542-365d6e378191",
   "metadata": {},
   "outputs": [],
   "source": []
  },
  {
   "cell_type": "code",
   "execution_count": null,
   "id": "6d938c45-b986-40be-b0fd-eac77cd4e6dd",
   "metadata": {},
   "outputs": [],
   "source": []
  },
  {
   "cell_type": "markdown",
   "id": "3b409e4c-ff68-4f5f-802b-6616a07bb5af",
   "metadata": {},
   "source": [
    "### models"
   ]
  },
  {
   "cell_type": "code",
   "execution_count": 2,
   "id": "73517cd9-5b4b-4f01-854e-ac5e4f1ba4a5",
   "metadata": {},
   "outputs": [],
   "source": [
    "hdfs = Client()"
   ]
  },
  {
   "cell_type": "code",
   "execution_count": 5,
   "id": "617365ef-c8be-4a38-9bb6-67130acf4591",
   "metadata": {},
   "outputs": [
    {
     "data": {
      "text/plain": [
       "['hbase']"
      ]
     },
     "execution_count": 5,
     "metadata": {},
     "output_type": "execute_result"
    }
   ],
   "source": [
    "hdfs.ls('/')"
   ]
  },
  {
   "cell_type": "code",
   "execution_count": 6,
   "id": "86e1d452-f10f-45b7-b82a-297e8020b1bd",
   "metadata": {},
   "outputs": [
    {
     "data": {
      "text/plain": [
       "{'boolean': True}"
      ]
     },
     "execution_count": 6,
     "metadata": {},
     "output_type": "execute_result"
    }
   ],
   "source": [
    "hdfs.mkdir('/models')"
   ]
  },
  {
   "cell_type": "code",
   "execution_count": 7,
   "id": "68a0da15-2ce3-4aa7-853d-9ac3f3e1fb8e",
   "metadata": {},
   "outputs": [
    {
     "data": {
      "text/plain": [
       "[]"
      ]
     },
     "execution_count": 7,
     "metadata": {},
     "output_type": "execute_result"
    }
   ],
   "source": [
    "hdfs.ls('/models')"
   ]
  },
  {
   "cell_type": "code",
   "execution_count": 4,
   "id": "f4515cbd-2306-4238-9d2c-47278e6ebf3f",
   "metadata": {},
   "outputs": [
    {
     "data": {
      "text/plain": [
       "{'boolean': True}"
      ]
     },
     "execution_count": 4,
     "metadata": {},
     "output_type": "execute_result"
    }
   ],
   "source": [
    "hdfs.delete('/models', isdir=True)"
   ]
  },
  {
   "cell_type": "code",
   "execution_count": null,
   "id": "b8a7a2db-07d0-40ac-8ea3-52903034beb7",
   "metadata": {},
   "outputs": [],
   "source": []
  },
  {
   "cell_type": "code",
   "execution_count": 9,
   "id": "3fcebd83-cce6-4d33-89cc-b662a7696814",
   "metadata": {},
   "outputs": [
    {
     "data": {
      "text/plain": [
       "True"
      ]
     },
     "execution_count": 9,
     "metadata": {},
     "output_type": "execute_result"
    }
   ],
   "source": [
    "hdfs_path = '/models/2023-06-21.model'\n",
    "local_path = 'models/2023-06-21.model'\n",
    "\n",
    "hdfs.upload(hdfs_path, local_path)"
   ]
  },
  {
   "cell_type": "code",
   "execution_count": null,
   "id": "c7ff1682-75c4-4487-a1af-9dfd91e37861",
   "metadata": {},
   "outputs": [],
   "source": []
  },
  {
   "cell_type": "code",
   "execution_count": null,
   "id": "d6ec1f8e-d863-4477-b1b4-a4a5388d488b",
   "metadata": {},
   "outputs": [],
   "source": []
  }
 ],
 "metadata": {
  "kernelspec": {
   "display_name": "Python 3 (ipykernel)",
   "language": "python",
   "name": "python3"
  },
  "language_info": {
   "codemirror_mode": {
    "name": "ipython",
    "version": 3
   },
   "file_extension": ".py",
   "mimetype": "text/x-python",
   "name": "python",
   "nbconvert_exporter": "python",
   "pygments_lexer": "ipython3",
   "version": "3.9.16"
  }
 },
 "nbformat": 4,
 "nbformat_minor": 5
}
